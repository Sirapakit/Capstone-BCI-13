{
 "cells": [
  {
   "cell_type": "code",
   "execution_count": 55,
   "metadata": {},
   "outputs": [
    {
     "name": "stdout",
     "output_type": "stream",
     "text": [
      "(3686400,) (3686400,)\n"
     ]
    }
   ],
   "source": [
    "import numpy as np\n",
    "\n",
    "path = 'data_15.npy'\n",
    "path2 = 'data_chb15_10.npy'\n",
    "path3 = 'data_chb15_15.npy'\n",
    "path4 = 'data_chb15_17.npy'\n",
    "\n",
    "data = np.load(path)\n",
    "data2 = np.load(path2)\n",
    "data3 = np.load(path3)\n",
    "data4 = np.load(path4)\n",
    "\n",
    "data_add = np.append(data[0],data2[0])\n",
    "data_add = np.append(data_add,data3[0])\n",
    "data_add = np.append(data_add,data4[0])\n",
    "\n",
    "label = np.append(data[2],data2[2])\n",
    "label = np.append(label,data3[2])\n",
    "label = np.append(label,data4[2])\n",
    "\n",
    "print(data_add.shape, label.shape)"
   ]
  },
  {
   "cell_type": "code",
   "execution_count": 60,
   "metadata": {},
   "outputs": [
    {
     "name": "stdout",
     "output_type": "stream",
     "text": [
      "set of label \"0\": 27859\n",
      "set of label \"1\": 243\n",
      "set of label \"2\": 697\n"
     ]
    }
   ],
   "source": [
    "from itertools import count\n",
    "\n",
    "\n",
    "def strided_app(a, L, S ):  # Window len = L, Stride len/stepsize = S\n",
    "    nrows = ((a.size-L)//S)+1\n",
    "    n = a.strides[0]\n",
    "    return np.lib.stride_tricks.as_strided(a, shape=(nrows,L), strides=(S*n,n))\n",
    "\n",
    "x = strided_app(data_add, L = 256, S = 128)\n",
    "# print(x.shape)\n",
    "\n",
    "z = strided_app(label, L = 256, S = 128)\n",
    "y = np.zeros(x.shape[0])\n",
    "for i in range(0,x.shape[0]):\n",
    "    if np.mean(z[i]) < 0.5:\n",
    "        y[i] = 0\n",
    "    elif np.mean(z[i]) <= 1:\n",
    "        y[i] = 1\n",
    "    else:\n",
    "        y[i] = 2\n",
    "non = np.count_nonzero(y==0)\n",
    "soz = np.count_nonzero(y==1)\n",
    "ict = np.count_nonzero(y==2)\n",
    "# print(y.shape)\n",
    "print('set of label \"0\": {}'.format(non))\n",
    "print('set of label \"1\": {}'.format(soz))\n",
    "print('set of label \"2\": {}'.format(ict))"
   ]
  },
  {
   "cell_type": "code",
   "execution_count": 57,
   "metadata": {},
   "outputs": [
    {
     "name": "stdout",
     "output_type": "stream",
     "text": [
      "After Undersampling, the shape of train_X: (516, 256)\n",
      "After Undersampling, the shape of train_y: (516,) \n",
      "\n",
      "After Undersampling, counts of label '0': 172\n",
      "After Undersampling, counts of label '1': 172\n",
      "After Undersampling, counts of label '2': 172\n",
      "\n",
      "After Undersampling, the shape of test_X: (213, 256)\n",
      "After Undersampling, the shape of test_y: (213,)\n",
      "After Undersampling, counts of label '0': 71\n",
      "After Undersampling, counts of label '1': 71\n",
      "After Undersampling, counts of label '2': 71\n"
     ]
    }
   ],
   "source": [
    "from sklearn.metrics import confusion_matrix, accuracy_score, precision_score, recall_score, f1_score\n",
    "from sklearn.model_selection import train_test_split\n",
    "\n",
    "# Undersampling\n",
    "from imblearn.under_sampling import NearMiss\n",
    "from imblearn.under_sampling import RandomUnderSampler\n",
    "from imblearn.under_sampling import EditedNearestNeighbours\n",
    "\n",
    "# enn = EditedNearestNeighbours()\n",
    "# rus = RandomUnderSampler(random_state=0)\n",
    "nr = NearMiss(n_neighbors=3)\n",
    "\n",
    "X_train, X_test, y_train, y_test = train_test_split(x, y, test_size = 0.3, random_state = 0)\n",
    "X_train_resample, y_train_resample = nr.fit_resample(X_train, y_train)\n",
    "X_test_resample, y_test_resample = nr.fit_resample(X_test, y_test)\n",
    "\n",
    "print('After Undersampling, the shape of train_X: {}'.format(X_train_resample.shape))\n",
    "print('After Undersampling, the shape of train_y: {} \\n'.format(y_train_resample.shape))\n",
    "print(\"After Undersampling, counts of label '0': {}\".format(sum(y_train_resample == 0)))\n",
    "print(\"After Undersampling, counts of label '1': {}\".format(sum(y_train_resample == 1)))\n",
    "print(\"After Undersampling, counts of label '2': {}\\n\".format(sum(y_train_resample == 2)))\n",
    "\n",
    "print('After Undersampling, the shape of test_X: {}'.format(X_test_resample.shape))\n",
    "print('After Undersampling, the shape of test_y: {}'.format(y_test_resample.shape))\n",
    "print(\"After Undersampling, counts of label '0': {}\".format(sum(y_test_resample == 0)))\n",
    "print(\"After Undersampling, counts of label '1': {}\".format(sum(y_test_resample == 1)))\n",
    "print(\"After Undersampling, counts of label '2': {}\".format(sum(y_test_resample == 2)))\n",
    "\n",
    "# print('After Undersampling, the shape of train_X: {}'.format(X_train.shape))\n",
    "# print('After Undersampling, the shape of train_y: {} \\n'.format(y_train.shape))\n",
    "# print(\"After Undersampling, counts of label '0': {}\".format(sum(y_train == 0)))\n",
    "# print(\"After Undersampling, counts of label '1': {}\".format(sum(y_train == 1)))\n",
    "# print(\"After Undersampling, counts of label '2': {}\".format(sum(y_train == 2)))"
   ]
  },
  {
   "cell_type": "code",
   "execution_count": 58,
   "metadata": {},
   "outputs": [
    {
     "name": "stdout",
     "output_type": "stream",
     "text": [
      "0.6244131455399061\n",
      "[[71  0  0]\n",
      " [17  5 49]\n",
      " [14  0 57]]\n",
      "\n",
      "Classification Report\n",
      "\n",
      "              precision    recall  f1-score   support\n",
      "\n",
      " non-seizure       0.70      1.00      0.82        71\n",
      "         soz       1.00      0.07      0.13        71\n",
      "       ictal       0.54      0.80      0.64        71\n",
      "\n",
      "    accuracy                           0.62       213\n",
      "   macro avg       0.74      0.62      0.53       213\n",
      "weighted avg       0.74      0.62      0.53       213\n",
      "\n"
     ]
    }
   ],
   "source": [
    "from sklearn.svm import SVC\n",
    "svm_model_linear = SVC(kernel = 'linear', C = 1).fit(X_train_resample, y_train_resample)\n",
    "svm_predictions = svm_model_linear.predict(X_test_resample)\n",
    "\n",
    "# model accuracy for X_test  \n",
    "accuracy = svm_model_linear.score(X_test_resample, y_test_resample)\n",
    "  \n",
    "# creating a confusion matrix\n",
    "cm = confusion_matrix(y_test_resample, svm_predictions)\n",
    "\n",
    "print(accuracy)\n",
    "print(cm)\n",
    "\n",
    "from sklearn.metrics import classification_report\n",
    "print('\\nClassification Report\\n')\n",
    "print(classification_report(y_test_resample, svm_predictions, target_names=['non-seizure', 'soz', 'ictal']))\n"
   ]
  }
 ],
 "metadata": {
  "kernelspec": {
   "display_name": "Python 3.9.7 ('base')",
   "language": "python",
   "name": "python3"
  },
  "language_info": {
   "codemirror_mode": {
    "name": "ipython",
    "version": 3
   },
   "file_extension": ".py",
   "mimetype": "text/x-python",
   "name": "python",
   "nbconvert_exporter": "python",
   "pygments_lexer": "ipython3",
   "version": "3.9.7"
  },
  "orig_nbformat": 4,
  "vscode": {
   "interpreter": {
    "hash": "2043299c89c8cd0b4d1a6f5cf4529bd58e6a4e0fe3181a25e0d328c821cdc5c5"
   }
  }
 },
 "nbformat": 4,
 "nbformat_minor": 2
}
