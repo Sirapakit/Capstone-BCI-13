{
 "cells": [
  {
   "cell_type": "code",
   "execution_count": 1,
   "metadata": {},
   "outputs": [],
   "source": [
    "# read data\n",
    "path = r\"D:\\Thesis\\Capstone-BCI-13\\chb15_06.csv\"\n",
    "\n",
    "import pandas\n",
    "df = pandas.read_csv(path)  # Read the file\n",
    "# print(df.loc[0].shape)\n",
    "# print(df.iloc[:,0])\n",
    "# print(df.loc[:,\"event\"])\n",
    "\n",
    "# a = df['event'].value_counts()[0]   # non-seizure\n",
    "# b = df['event'].value_counts()[1]   # onset\n",
    "# c = df['event'].value_counts()[2]   # ictal\n",
    "# print(\"non--------\", a)\n",
    "# print(\"onset--------\", b)\n",
    "# print(\"ictal--------\", c)\n",
    "# print(\"total--------\", a+b+c)"
   ]
  },
  {
   "cell_type": "code",
   "execution_count": null,
   "metadata": {},
   "outputs": [],
   "source": [
    "# balance data\n",
    "import pandas  as pd\n",
    "import matplotlib.pyplot as plt\n",
    "import numpy as np\n",
    "from sklearn.linear_model import LogisticRegression\n",
    "from sklearn.preprocessing import StandardScaler\n",
    "from sklearn.metrics import confusion_matrix, accuracy_score, precision_score, recall_score, f1_score\n",
    "from imblearn.under_sampling import NearMiss\n",
    "from sklearn.model_selection import train_test_split\n",
    "\n",
    "X = df.loc[:,'F8-T8']\n",
    "X = np.asarray(X)\n",
    "X =  StandardScaler().fit_transform(X.reshape(-1,1))\n",
    "y = df.loc[:,\"event\"]\n",
    "y = np.asarray(y)\n",
    "\n",
    "\n",
    "nr = NearMiss()\n",
    "X_train, X_test, y_train, y_test = train_test_split(X, y, test_size = 0.3, random_state = 0)\n",
    "X_train_miss, y_train_miss = nr.fit_resample(X_train, y_train.ravel())\n",
    "print('After Undersampling, the shape of train_X: {}'.format(X_train_miss.shape))\n",
    "print('After Undersampling, the shape of train_y: {} \\n'.format(y_train_miss.shape))\n",
    "print(\"After Undersampling, counts of label '0': {}\".format(sum(y_train_miss == 0)))\n",
    "print(\"After Undersampling, counts of label '1': {}\".format(sum(y_train_miss == 1)))\n",
    "print(\"After Undersampling, counts of label '2': {}\".format(sum(y_train_miss == 2)))"
   ]
  },
  {
   "cell_type": "code",
   "execution_count": 2,
   "metadata": {},
   "outputs": [],
   "source": [
    "import pandas  as pd\n",
    "import matplotlib.pyplot as plt\n",
    "import numpy as np\n",
    "from sklearn.linear_model import LogisticRegression\n",
    "from sklearn.preprocessing import StandardScaler\n",
    "from sklearn.metrics import confusion_matrix, accuracy_score, precision_score, recall_score, f1_score\n",
    "from imblearn.under_sampling import NearMiss\n",
    "from sklearn.model_selection import train_test_split"
   ]
  },
  {
   "cell_type": "code",
   "execution_count": 31,
   "metadata": {},
   "outputs": [
    {
     "name": "stdout",
     "output_type": "stream",
     "text": [
      "(7199, 256)\n",
      "0.0\n"
     ]
    }
   ],
   "source": [
    "X = df.loc[:,'F8-T8']\n",
    "X = np.asarray(X)\n",
    "y = df.loc[:,\"event\"]\n",
    "y = np.asarray(y)\n",
    "\n",
    "def strided_app(a, L, S ):  # Window len = L, Stride len/stepsize = S\n",
    "    nrows = ((a.size-L)//S)+1\n",
    "    n = a.strides[0]\n",
    "    return np.lib.stride_tricks.as_strided(a, shape=(nrows,L), strides=(S*n,n))\n",
    "\n",
    "b = strided_app(X, L = 256, S = 128)\n",
    "print(b.shape)\n",
    "\n",
    "z = strided_app(y, L = 256, S = 128)\n",
    "\n",
    "# z = [0]*7200\n",
    "# a = 0\n",
    "# b = 256\n",
    "# for i in range(7200):\n",
    "#     z[i] = X[a:b]\n",
    "#     a += 128\n",
    "#     b += 128\n",
    "# print(z)\n",
    "\n",
    "# q = [0]*7199\n",
    "# q.append(1)\n",
    "# print(len(q))\n",
    "\n",
    "# X_train, X_test, y_train, y_test = train_test_split(b, z, test_size = 0.3, random_state = 0)"
   ]
  },
  {
   "cell_type": "code",
   "execution_count": 16,
   "metadata": {},
   "outputs": [
    {
     "name": "stdout",
     "output_type": "stream",
     "text": [
      "1.0\n",
      "[[2160]]\n"
     ]
    }
   ],
   "source": [
    "# ML\n",
    "# x = features(f8-t8), y = label(0,1,2)\n",
    "from sklearn.svm import SVC\n",
    "svm_model_linear = SVC(kernel = 'linear', C = 1).fit(X_train, y_train)\n",
    "svm_predictions = svm_model_linear.predict(X_test)\n",
    "  \n",
    "# model accuracy for X_test  \n",
    "accuracy = svm_model_linear.score(X_test, y_test)\n",
    "  \n",
    "# creating a confusion matrix\n",
    "cm = confusion_matrix(y_test, svm_predictions)\n",
    "\n",
    "print(accuracy)\n",
    "print(cm)"
   ]
  },
  {
   "cell_type": "code",
   "execution_count": 13,
   "metadata": {},
   "outputs": [
    {
     "name": "stdout",
     "output_type": "stream",
     "text": [
      "(16236, 1)\n",
      "[[-0.11631462]\n",
      " [-0.11631359]\n",
      " [ 0.20879191]\n",
      " ...\n",
      " [-0.11201819]\n",
      " [-0.22658571]\n",
      " [-0.2654133 ]]\n",
      "(16236,)\n",
      "[0. 0. 0. ... 2. 2. 2.]\n",
      "<class 'numpy.ndarray'>\n"
     ]
    }
   ],
   "source": [
    "print(X_train_miss.shape)\n",
    "print(X_train_miss)\n",
    "print(y_train_miss.shape)\n",
    "print(y_train_miss)\n",
    "print(type(y_train_miss))"
   ]
  },
  {
   "cell_type": "code",
   "execution_count": null,
   "metadata": {},
   "outputs": [],
   "source": [
    "# training a KNN classifier\n",
    "from sklearn.neighbors import KNeighborsClassifier\n",
    "knn = KNeighborsClassifier(n_neighbors = 7).fit(X_train_miss, y_train_miss)\n",
    "\n",
    "# accuracy on X_test\n",
    "accuracy = knn.score(X_test, y_test)\n",
    "print(accuracy)\n",
    "\n",
    "# creating a confusion matrix\n",
    "knn_predictions = knn.predict(X_test)\n",
    "cm = confusion_matrix(y_test, knn_predictions)\n",
    "print(cm)"
   ]
  },
  {
   "cell_type": "code",
   "execution_count": null,
   "metadata": {},
   "outputs": [],
   "source": [
    "from sklearn.naive_bayes import GaussianNB\n",
    "gnb = GaussianNB().fit(X_train, y_train)\n",
    "gnb_predictions = gnb.predict(X_test)\n",
    "  \n",
    "# accuracy on X_test\n",
    "accuracy = gnb.score(X_test, y_test)\n",
    "print(accuracy)\n",
    "  \n",
    "# creating a confusion matrix\n",
    "cm = confusion_matrix(y_test, gnb_predictions)\n",
    "print(cm)"
   ]
  },
  {
   "cell_type": "code",
   "execution_count": null,
   "metadata": {},
   "outputs": [],
   "source": [
    "# training a DescisionTreeClassifier\n",
    "from sklearn.tree import DecisionTreeClassifier\n",
    "dtree_model = DecisionTreeClassifier(max_depth = 2).fit(X_train_miss, y_train_miss)\n",
    "dtree_predictions = dtree_model.predict(X_test)\n",
    "\n",
    "# accuracy on X_test\n",
    "accuracy = dtree_model.score(X_test, y_test)\n",
    "print(accuracy)\n",
    "\n",
    "# creating a confusion matrix\n",
    "cm = confusion_matrix(y_test, dtree_predictions)\n",
    "print(cm)"
   ]
  }
 ],
 "metadata": {
  "kernelspec": {
   "display_name": "Python 3.9.7 ('base')",
   "language": "python",
   "name": "python3"
  },
  "language_info": {
   "codemirror_mode": {
    "name": "ipython",
    "version": 3
   },
   "file_extension": ".py",
   "mimetype": "text/x-python",
   "name": "python",
   "nbconvert_exporter": "python",
   "pygments_lexer": "ipython3",
   "version": "3.9.7"
  },
  "orig_nbformat": 4,
  "vscode": {
   "interpreter": {
    "hash": "2043299c89c8cd0b4d1a6f5cf4529bd58e6a4e0fe3181a25e0d328c821cdc5c5"
   }
  }
 },
 "nbformat": 4,
 "nbformat_minor": 2
}
