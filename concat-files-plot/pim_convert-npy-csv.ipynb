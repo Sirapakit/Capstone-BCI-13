{
 "cells": [
  {
   "cell_type": "code",
   "execution_count": 1,
   "metadata": {},
   "outputs": [],
   "source": [
    "import numpy as np\n",
    "import os\n",
    "import json\n",
    "import mne"
   ]
  },
  {
   "cell_type": "code",
   "execution_count": 2,
   "metadata": {},
   "outputs": [],
   "source": [
    "path = '../json_convert_to_npy/chb05'\n",
    "patient_chb = 'chb05'\n",
    "json_filename_array = os.listdir(path)\n",
    "json_filename_array.sort()"
   ]
  },
  {
   "cell_type": "code",
   "execution_count": 3,
   "metadata": {},
   "outputs": [
    {
     "name": "stdout",
     "output_type": "stream",
     "text": [
      "Investigating JSON: info_chb05_01.json\n",
      "Investigating EDF: chb05_01.edf\n",
      "Extracting EDF parameters from /Users/sirap/Documents/Capstone-BCI-13/dataset/chb05/chb05_01.edf...\n",
      "EDF file detected\n",
      "Setting channel info structure...\n",
      "Creating raw.info structure...\n"
     ]
    },
    {
     "name": "stderr",
     "output_type": "stream",
     "text": [
      "/var/folders/fx/s9d23h851bqgcdp14ny244k80000gn/T/ipykernel_3941/325113113.py:28: RuntimeWarning: Channel names are not unique, found duplicates for: {'T8-P8'}. Applying running numbers for duplicates.\n",
      "  raw = mne.io.read_raw(data_file) # raw = raw format\n"
     ]
    },
    {
     "name": "stdout",
     "output_type": "stream",
     "text": [
      "(924160,)\n",
      "Investigating JSON: info_chb05_02.json\n",
      "Investigating EDF: chb05_02.edf\n",
      "Extracting EDF parameters from /Users/sirap/Documents/Capstone-BCI-13/dataset/chb05/chb05_02.edf...\n",
      "EDF file detected\n",
      "Setting channel info structure...\n",
      "Creating raw.info structure...\n",
      "(1845760,)\n",
      "Investigating JSON: info_chb05_03.json\n",
      "Investigating EDF: chb05_03.edf\n",
      "Extracting EDF parameters from /Users/sirap/Documents/Capstone-BCI-13/dataset/chb05/chb05_03.edf...\n",
      "EDF file detected\n",
      "Setting channel info structure...\n",
      "Creating raw.info structure...\n"
     ]
    },
    {
     "name": "stderr",
     "output_type": "stream",
     "text": [
      "/var/folders/fx/s9d23h851bqgcdp14ny244k80000gn/T/ipykernel_3941/325113113.py:28: RuntimeWarning: Channel names are not unique, found duplicates for: {'T8-P8'}. Applying running numbers for duplicates.\n",
      "  raw = mne.io.read_raw(data_file) # raw = raw format\n",
      "/var/folders/fx/s9d23h851bqgcdp14ny244k80000gn/T/ipykernel_3941/325113113.py:28: RuntimeWarning: Channel names are not unique, found duplicates for: {'T8-P8'}. Applying running numbers for duplicates.\n",
      "  raw = mne.io.read_raw(data_file) # raw = raw format\n"
     ]
    },
    {
     "name": "stdout",
     "output_type": "stream",
     "text": [
      "(2767360,)\n",
      "Investigating JSON: info_chb05_04.json\n",
      "Investigating EDF: chb05_04.edf\n",
      "Extracting EDF parameters from /Users/sirap/Documents/Capstone-BCI-13/dataset/chb05/chb05_04.edf...\n",
      "EDF file detected\n",
      "Setting channel info structure...\n",
      "Creating raw.info structure...\n",
      "(3688960,)\n",
      "Investigating JSON: info_chb05_05.json\n",
      "Investigating EDF: chb05_05.edf\n",
      "Extracting EDF parameters from /Users/sirap/Documents/Capstone-BCI-13/dataset/chb05/chb05_05.edf...\n",
      "EDF file detected\n",
      "Setting channel info structure...\n",
      "Creating raw.info structure...\n"
     ]
    },
    {
     "name": "stderr",
     "output_type": "stream",
     "text": [
      "/var/folders/fx/s9d23h851bqgcdp14ny244k80000gn/T/ipykernel_3941/325113113.py:28: RuntimeWarning: Channel names are not unique, found duplicates for: {'T8-P8'}. Applying running numbers for duplicates.\n",
      "  raw = mne.io.read_raw(data_file) # raw = raw format\n",
      "/var/folders/fx/s9d23h851bqgcdp14ny244k80000gn/T/ipykernel_3941/325113113.py:28: RuntimeWarning: Channel names are not unique, found duplicates for: {'T8-P8'}. Applying running numbers for duplicates.\n",
      "  raw = mne.io.read_raw(data_file) # raw = raw format\n"
     ]
    },
    {
     "name": "stdout",
     "output_type": "stream",
     "text": [
      "(4610560,)\n",
      "Investigating JSON: info_chb05_06.json\n",
      "Investigating EDF: chb05_06.edf\n",
      "Extracting EDF parameters from /Users/sirap/Documents/Capstone-BCI-13/dataset/chb05/chb05_06.edf...\n",
      "EDF file detected\n",
      "Setting channel info structure...\n",
      "Creating raw.info structure...\n",
      "(5532160,)\n",
      "Investigating JSON: info_chb05_07.json\n",
      "Investigating EDF: chb05_07.edf\n",
      "Extracting EDF parameters from /Users/sirap/Documents/Capstone-BCI-13/dataset/chb05/chb05_07.edf...\n",
      "EDF file detected\n",
      "Setting channel info structure...\n",
      "Creating raw.info structure...\n"
     ]
    },
    {
     "name": "stderr",
     "output_type": "stream",
     "text": [
      "/var/folders/fx/s9d23h851bqgcdp14ny244k80000gn/T/ipykernel_3941/325113113.py:28: RuntimeWarning: Channel names are not unique, found duplicates for: {'T8-P8'}. Applying running numbers for duplicates.\n",
      "  raw = mne.io.read_raw(data_file) # raw = raw format\n",
      "/var/folders/fx/s9d23h851bqgcdp14ny244k80000gn/T/ipykernel_3941/325113113.py:28: RuntimeWarning: Channel names are not unique, found duplicates for: {'T8-P8'}. Applying running numbers for duplicates.\n",
      "  raw = mne.io.read_raw(data_file) # raw = raw format\n"
     ]
    },
    {
     "name": "stdout",
     "output_type": "stream",
     "text": [
      "(6453760,)\n",
      "Investigating JSON: info_chb05_08.json\n",
      "Investigating EDF: chb05_08.edf\n",
      "Extracting EDF parameters from /Users/sirap/Documents/Capstone-BCI-13/dataset/chb05/chb05_08.edf...\n",
      "EDF file detected\n",
      "Setting channel info structure...\n",
      "Creating raw.info structure...\n",
      "(7375360,)\n",
      "Investigating JSON: info_chb05_09.json\n",
      "Investigating EDF: chb05_09.edf\n",
      "Extracting EDF parameters from /Users/sirap/Documents/Capstone-BCI-13/dataset/chb05/chb05_09.edf...\n",
      "EDF file detected\n",
      "Setting channel info structure...\n",
      "Creating raw.info structure...\n"
     ]
    },
    {
     "name": "stderr",
     "output_type": "stream",
     "text": [
      "/var/folders/fx/s9d23h851bqgcdp14ny244k80000gn/T/ipykernel_3941/325113113.py:28: RuntimeWarning: Channel names are not unique, found duplicates for: {'T8-P8'}. Applying running numbers for duplicates.\n",
      "  raw = mne.io.read_raw(data_file) # raw = raw format\n",
      "/var/folders/fx/s9d23h851bqgcdp14ny244k80000gn/T/ipykernel_3941/325113113.py:28: RuntimeWarning: Channel names are not unique, found duplicates for: {'T8-P8'}. Applying running numbers for duplicates.\n",
      "  raw = mne.io.read_raw(data_file) # raw = raw format\n"
     ]
    },
    {
     "name": "stdout",
     "output_type": "stream",
     "text": [
      "(8296960,)\n",
      "Investigating JSON: info_chb05_10.json\n",
      "Investigating EDF: chb05_10.edf\n",
      "Extracting EDF parameters from /Users/sirap/Documents/Capstone-BCI-13/dataset/chb05/chb05_10.edf...\n",
      "EDF file detected\n",
      "Setting channel info structure...\n",
      "Creating raw.info structure...\n",
      "(9218560,)\n",
      "Investigating JSON: info_chb05_11.json\n",
      "Investigating EDF: chb05_11.edf\n",
      "Extracting EDF parameters from /Users/sirap/Documents/Capstone-BCI-13/dataset/chb05/chb05_11.edf...\n",
      "EDF file detected\n",
      "Setting channel info structure...\n",
      "Creating raw.info structure...\n"
     ]
    },
    {
     "name": "stderr",
     "output_type": "stream",
     "text": [
      "/var/folders/fx/s9d23h851bqgcdp14ny244k80000gn/T/ipykernel_3941/325113113.py:28: RuntimeWarning: Channel names are not unique, found duplicates for: {'T8-P8'}. Applying running numbers for duplicates.\n",
      "  raw = mne.io.read_raw(data_file) # raw = raw format\n",
      "/var/folders/fx/s9d23h851bqgcdp14ny244k80000gn/T/ipykernel_3941/325113113.py:28: RuntimeWarning: Channel names are not unique, found duplicates for: {'T8-P8'}. Applying running numbers for duplicates.\n",
      "  raw = mne.io.read_raw(data_file) # raw = raw format\n"
     ]
    },
    {
     "name": "stdout",
     "output_type": "stream",
     "text": [
      "(10140160,)\n",
      "Investigating JSON: info_chb05_12.json\n",
      "Investigating EDF: chb05_12.edf\n",
      "Extracting EDF parameters from /Users/sirap/Documents/Capstone-BCI-13/dataset/chb05/chb05_12.edf...\n",
      "EDF file detected\n",
      "Setting channel info structure...\n",
      "Creating raw.info structure...\n",
      "(11061760,)\n",
      "Investigating JSON: info_chb05_13.json\n",
      "Investigating EDF: chb05_13.edf\n",
      "Extracting EDF parameters from /Users/sirap/Documents/Capstone-BCI-13/dataset/chb05/chb05_13.edf...\n",
      "EDF file detected\n",
      "Setting channel info structure...\n",
      "Creating raw.info structure...\n"
     ]
    },
    {
     "name": "stderr",
     "output_type": "stream",
     "text": [
      "/var/folders/fx/s9d23h851bqgcdp14ny244k80000gn/T/ipykernel_3941/325113113.py:28: RuntimeWarning: Channel names are not unique, found duplicates for: {'T8-P8'}. Applying running numbers for duplicates.\n",
      "  raw = mne.io.read_raw(data_file) # raw = raw format\n",
      "/var/folders/fx/s9d23h851bqgcdp14ny244k80000gn/T/ipykernel_3941/325113113.py:28: RuntimeWarning: Channel names are not unique, found duplicates for: {'T8-P8'}. Applying running numbers for duplicates.\n",
      "  raw = mne.io.read_raw(data_file) # raw = raw format\n"
     ]
    },
    {
     "name": "stdout",
     "output_type": "stream",
     "text": [
      "(11983360,)\n",
      "Investigating JSON: info_chb05_14.json\n",
      "Investigating EDF: chb05_14.edf\n",
      "Extracting EDF parameters from /Users/sirap/Documents/Capstone-BCI-13/dataset/chb05/chb05_14.edf...\n",
      "EDF file detected\n",
      "Setting channel info structure...\n",
      "Creating raw.info structure...\n",
      "(12904960,)\n",
      "Investigating JSON: info_chb05_15.json\n"
     ]
    },
    {
     "name": "stderr",
     "output_type": "stream",
     "text": [
      "/var/folders/fx/s9d23h851bqgcdp14ny244k80000gn/T/ipykernel_3941/325113113.py:28: RuntimeWarning: Channel names are not unique, found duplicates for: {'T8-P8'}. Applying running numbers for duplicates.\n",
      "  raw = mne.io.read_raw(data_file) # raw = raw format\n"
     ]
    },
    {
     "name": "stdout",
     "output_type": "stream",
     "text": [
      "Investigating EDF: chb05_15.edf\n",
      "Extracting EDF parameters from /Users/sirap/Documents/Capstone-BCI-13/dataset/chb05/chb05_15.edf...\n",
      "EDF file detected\n",
      "Setting channel info structure...\n",
      "Creating raw.info structure...\n",
      "(13826560,)"
     ]
    },
    {
     "name": "stderr",
     "output_type": "stream",
     "text": [
      "/var/folders/fx/s9d23h851bqgcdp14ny244k80000gn/T/ipykernel_3941/325113113.py:28: RuntimeWarning: Channel names are not unique, found duplicates for: {'T8-P8'}. Applying running numbers for duplicates.\n",
      "  raw = mne.io.read_raw(data_file) # raw = raw format\n"
     ]
    },
    {
     "name": "stdout",
     "output_type": "stream",
     "text": [
      "\n",
      "Investigating JSON: info_chb05_16.json\n",
      "Investigating EDF: chb05_16.edf\n",
      "Extracting EDF parameters from /Users/sirap/Documents/Capstone-BCI-13/dataset/chb05/chb05_16.edf...\n",
      "EDF file detected\n",
      "Setting channel info structure...\n",
      "Creating raw.info structure...\n"
     ]
    },
    {
     "name": "stderr",
     "output_type": "stream",
     "text": [
      "/var/folders/fx/s9d23h851bqgcdp14ny244k80000gn/T/ipykernel_3941/325113113.py:28: RuntimeWarning: Channel names are not unique, found duplicates for: {'T8-P8'}. Applying running numbers for duplicates.\n",
      "  raw = mne.io.read_raw(data_file) # raw = raw format\n"
     ]
    },
    {
     "name": "stdout",
     "output_type": "stream",
     "text": [
      "(14748160,)\n",
      "Investigating JSON: info_chb05_17.json\n",
      "Investigating EDF: chb05_17.edf\n",
      "Extracting EDF parameters from /Users/sirap/Documents/Capstone-BCI-13/dataset/chb05/chb05_17.edf...\n",
      "EDF file detected\n",
      "Setting channel info structure...\n",
      "Creating raw.info structure...\n"
     ]
    },
    {
     "name": "stderr",
     "output_type": "stream",
     "text": [
      "/var/folders/fx/s9d23h851bqgcdp14ny244k80000gn/T/ipykernel_3941/325113113.py:28: RuntimeWarning: Channel names are not unique, found duplicates for: {'T8-P8'}. Applying running numbers for duplicates.\n",
      "  raw = mne.io.read_raw(data_file) # raw = raw format\n"
     ]
    },
    {
     "name": "stdout",
     "output_type": "stream",
     "text": [
      "(15669760,)\n",
      "Investigating JSON: info_chb05_18.json\n",
      "Investigating EDF: chb05_18.edf\n",
      "Extracting EDF parameters from /Users/sirap/Documents/Capstone-BCI-13/dataset/chb05/chb05_18.edf...\n",
      "EDF file detected\n",
      "Setting channel info structure...\n",
      "Creating raw.info structure...\n"
     ]
    },
    {
     "name": "stderr",
     "output_type": "stream",
     "text": [
      "/var/folders/fx/s9d23h851bqgcdp14ny244k80000gn/T/ipykernel_3941/325113113.py:28: RuntimeWarning: Channel names are not unique, found duplicates for: {'T8-P8'}. Applying running numbers for duplicates.\n",
      "  raw = mne.io.read_raw(data_file) # raw = raw format\n"
     ]
    },
    {
     "name": "stdout",
     "output_type": "stream",
     "text": [
      "(16591360,)\n",
      "Investigating JSON: info_chb05_19.json\n",
      "Investigating EDF: chb05_19.edf\n",
      "Extracting EDF parameters from /Users/sirap/Documents/Capstone-BCI-13/dataset/chb05/chb05_19.edf...\n",
      "EDF file detected\n",
      "Setting channel info structure...\n",
      "Creating raw.info structure...\n"
     ]
    },
    {
     "name": "stderr",
     "output_type": "stream",
     "text": [
      "/var/folders/fx/s9d23h851bqgcdp14ny244k80000gn/T/ipykernel_3941/325113113.py:28: RuntimeWarning: Channel names are not unique, found duplicates for: {'T8-P8'}. Applying running numbers for duplicates.\n",
      "  raw = mne.io.read_raw(data_file) # raw = raw format\n"
     ]
    },
    {
     "name": "stdout",
     "output_type": "stream",
     "text": [
      "(17512960,)\n",
      "Investigating JSON: info_chb05_20.json\n",
      "Investigating EDF: chb05_20.edf\n",
      "Extracting EDF parameters from /Users/sirap/Documents/Capstone-BCI-13/dataset/chb05/chb05_20.edf...\n",
      "EDF file detected\n",
      "Setting channel info structure...\n",
      "Creating raw.info structure...\n"
     ]
    },
    {
     "name": "stderr",
     "output_type": "stream",
     "text": [
      "/var/folders/fx/s9d23h851bqgcdp14ny244k80000gn/T/ipykernel_3941/325113113.py:28: RuntimeWarning: Channel names are not unique, found duplicates for: {'T8-P8'}. Applying running numbers for duplicates.\n",
      "  raw = mne.io.read_raw(data_file) # raw = raw format\n"
     ]
    },
    {
     "name": "stdout",
     "output_type": "stream",
     "text": [
      "(18434560,)\n",
      "Investigating JSON: info_chb05_21.json\n",
      "Investigating EDF: chb05_21.edf\n",
      "Extracting EDF parameters from /Users/sirap/Documents/Capstone-BCI-13/dataset/chb05/chb05_21.edf...\n",
      "EDF file detected\n",
      "Setting channel info structure...\n",
      "Creating raw.info structure...\n"
     ]
    },
    {
     "name": "stderr",
     "output_type": "stream",
     "text": [
      "/var/folders/fx/s9d23h851bqgcdp14ny244k80000gn/T/ipykernel_3941/325113113.py:28: RuntimeWarning: Channel names are not unique, found duplicates for: {'T8-P8'}. Applying running numbers for duplicates.\n",
      "  raw = mne.io.read_raw(data_file) # raw = raw format\n"
     ]
    },
    {
     "name": "stdout",
     "output_type": "stream",
     "text": [
      "(19356160,)\n",
      "Investigating JSON: info_chb05_22.json\n",
      "Investigating EDF: chb05_22.edf\n",
      "Extracting EDF parameters from /Users/sirap/Documents/Capstone-BCI-13/dataset/chb05/chb05_22.edf...\n",
      "EDF file detected\n",
      "Setting channel info structure...\n",
      "Creating raw.info structure...\n"
     ]
    },
    {
     "name": "stderr",
     "output_type": "stream",
     "text": [
      "/var/folders/fx/s9d23h851bqgcdp14ny244k80000gn/T/ipykernel_3941/325113113.py:28: RuntimeWarning: Channel names are not unique, found duplicates for: {'T8-P8'}. Applying running numbers for duplicates.\n",
      "  raw = mne.io.read_raw(data_file) # raw = raw format\n"
     ]
    },
    {
     "name": "stdout",
     "output_type": "stream",
     "text": [
      "(20277760,)\n",
      "Investigating JSON: info_chb05_23.json\n",
      "Investigating EDF: chb05_23.edf\n",
      "Extracting EDF parameters from /Users/sirap/Documents/Capstone-BCI-13/dataset/chb05/chb05_23.edf...\n",
      "EDF file detected\n",
      "Setting channel info structure...\n",
      "Creating raw.info structure...\n"
     ]
    },
    {
     "name": "stderr",
     "output_type": "stream",
     "text": [
      "/var/folders/fx/s9d23h851bqgcdp14ny244k80000gn/T/ipykernel_3941/325113113.py:28: RuntimeWarning: Channel names are not unique, found duplicates for: {'T8-P8'}. Applying running numbers for duplicates.\n",
      "  raw = mne.io.read_raw(data_file) # raw = raw format\n"
     ]
    },
    {
     "name": "stdout",
     "output_type": "stream",
     "text": [
      "(21199360,)\n",
      "Investigating JSON: info_chb05_24.json\n",
      "Investigating EDF: chb05_24.edf\n",
      "Extracting EDF parameters from /Users/sirap/Documents/Capstone-BCI-13/dataset/chb05/chb05_24.edf...\n",
      "EDF file detected\n",
      "Setting channel info structure...\n",
      "Creating raw.info structure...\n"
     ]
    },
    {
     "name": "stderr",
     "output_type": "stream",
     "text": [
      "/var/folders/fx/s9d23h851bqgcdp14ny244k80000gn/T/ipykernel_3941/325113113.py:28: RuntimeWarning: Channel names are not unique, found duplicates for: {'T8-P8'}. Applying running numbers for duplicates.\n",
      "  raw = mne.io.read_raw(data_file) # raw = raw format\n"
     ]
    },
    {
     "name": "stdout",
     "output_type": "stream",
     "text": [
      "(22120960,)\n",
      "Investigating JSON: info_chb05_25.json\n",
      "Investigating EDF: chb05_25.edf\n",
      "Extracting EDF parameters from /Users/sirap/Documents/Capstone-BCI-13/dataset/chb05/chb05_25.edf...\n",
      "EDF file detected\n",
      "Setting channel info structure...\n",
      "Creating raw.info structure...\n"
     ]
    },
    {
     "name": "stderr",
     "output_type": "stream",
     "text": [
      "/var/folders/fx/s9d23h851bqgcdp14ny244k80000gn/T/ipykernel_3941/325113113.py:28: RuntimeWarning: Channel names are not unique, found duplicates for: {'T8-P8'}. Applying running numbers for duplicates.\n",
      "  raw = mne.io.read_raw(data_file) # raw = raw format\n"
     ]
    },
    {
     "name": "stdout",
     "output_type": "stream",
     "text": [
      "(23042560,)\n",
      "Investigating JSON: info_chb05_26.json\n",
      "Investigating EDF: chb05_26.edf\n",
      "Extracting EDF parameters from /Users/sirap/Documents/Capstone-BCI-13/dataset/chb05/chb05_26.edf...\n",
      "EDF file detected\n",
      "Setting channel info structure...\n",
      "Creating raw.info structure...\n"
     ]
    },
    {
     "name": "stderr",
     "output_type": "stream",
     "text": [
      "/var/folders/fx/s9d23h851bqgcdp14ny244k80000gn/T/ipykernel_3941/325113113.py:28: RuntimeWarning: Channel names are not unique, found duplicates for: {'T8-P8'}. Applying running numbers for duplicates.\n",
      "  raw = mne.io.read_raw(data_file) # raw = raw format\n"
     ]
    },
    {
     "name": "stdout",
     "output_type": "stream",
     "text": [
      "(23964160,)\n",
      "Investigating JSON: info_chb05_27.json\n",
      "Investigating EDF: chb05_27.edf\n",
      "Extracting EDF parameters from /Users/sirap/Documents/Capstone-BCI-13/dataset/chb05/chb05_27.edf...\n",
      "EDF file detected\n",
      "Setting channel info structure...\n",
      "Creating raw.info structure...\n"
     ]
    },
    {
     "name": "stderr",
     "output_type": "stream",
     "text": [
      "/var/folders/fx/s9d23h851bqgcdp14ny244k80000gn/T/ipykernel_3941/325113113.py:28: RuntimeWarning: Channel names are not unique, found duplicates for: {'T8-P8'}. Applying running numbers for duplicates.\n",
      "  raw = mne.io.read_raw(data_file) # raw = raw format\n"
     ]
    },
    {
     "name": "stdout",
     "output_type": "stream",
     "text": [
      "(24885760,)\n",
      "Investigating JSON: info_chb05_28.json\n",
      "Investigating EDF: chb05_28.edf\n",
      "Extracting EDF parameters from /Users/sirap/Documents/Capstone-BCI-13/dataset/chb05/chb05_28.edf...\n",
      "EDF file detected\n",
      "Setting channel info structure...\n",
      "Creating raw.info structure...\n"
     ]
    },
    {
     "name": "stderr",
     "output_type": "stream",
     "text": [
      "/var/folders/fx/s9d23h851bqgcdp14ny244k80000gn/T/ipykernel_3941/325113113.py:28: RuntimeWarning: Channel names are not unique, found duplicates for: {'T8-P8'}. Applying running numbers for duplicates.\n",
      "  raw = mne.io.read_raw(data_file) # raw = raw format\n"
     ]
    },
    {
     "name": "stdout",
     "output_type": "stream",
     "text": [
      "(25807360,)\n",
      "Investigating JSON: info_chb05_29.json\n",
      "Investigating EDF: chb05_29.edf\n",
      "Extracting EDF parameters from /Users/sirap/Documents/Capstone-BCI-13/dataset/chb05/chb05_29.edf...\n",
      "EDF file detected\n",
      "Setting channel info structure...\n",
      "Creating raw.info structure...\n"
     ]
    },
    {
     "name": "stderr",
     "output_type": "stream",
     "text": [
      "/var/folders/fx/s9d23h851bqgcdp14ny244k80000gn/T/ipykernel_3941/325113113.py:28: RuntimeWarning: Channel names are not unique, found duplicates for: {'T8-P8'}. Applying running numbers for duplicates.\n",
      "  raw = mne.io.read_raw(data_file) # raw = raw format\n"
     ]
    },
    {
     "name": "stdout",
     "output_type": "stream",
     "text": [
      "(26728960,)\n",
      "Investigating JSON: info_chb05_30.json\n",
      "Investigating EDF: chb05_30.edf\n",
      "Extracting EDF parameters from /Users/sirap/Documents/Capstone-BCI-13/dataset/chb05/chb05_30.edf...\n",
      "EDF file detected\n",
      "Setting channel info structure...\n",
      "Creating raw.info structure...\n"
     ]
    },
    {
     "name": "stderr",
     "output_type": "stream",
     "text": [
      "/var/folders/fx/s9d23h851bqgcdp14ny244k80000gn/T/ipykernel_3941/325113113.py:28: RuntimeWarning: Channel names are not unique, found duplicates for: {'T8-P8'}. Applying running numbers for duplicates.\n",
      "  raw = mne.io.read_raw(data_file) # raw = raw format\n"
     ]
    },
    {
     "name": "stdout",
     "output_type": "stream",
     "text": [
      "(27650560,)\n",
      "Investigating JSON: info_chb05_31.json\n",
      "Investigating EDF: chb05_31.edf\n",
      "Extracting EDF parameters from /Users/sirap/Documents/Capstone-BCI-13/dataset/chb05/chb05_31.edf...\n",
      "EDF file detected\n",
      "Setting channel info structure...\n",
      "Creating raw.info structure...\n"
     ]
    },
    {
     "name": "stderr",
     "output_type": "stream",
     "text": [
      "/var/folders/fx/s9d23h851bqgcdp14ny244k80000gn/T/ipykernel_3941/325113113.py:28: RuntimeWarning: Channel names are not unique, found duplicates for: {'T8-P8'}. Applying running numbers for duplicates.\n",
      "  raw = mne.io.read_raw(data_file) # raw = raw format\n"
     ]
    },
    {
     "name": "stdout",
     "output_type": "stream",
     "text": [
      "(28572160,)\n",
      "Investigating JSON: info_chb05_32.json\n",
      "Investigating EDF: chb05_32.edf\n",
      "Extracting EDF parameters from /Users/sirap/Documents/Capstone-BCI-13/dataset/chb05/chb05_32.edf...\n",
      "EDF file detected\n",
      "Setting channel info structure...\n",
      "Creating raw.info structure...\n"
     ]
    },
    {
     "name": "stderr",
     "output_type": "stream",
     "text": [
      "/var/folders/fx/s9d23h851bqgcdp14ny244k80000gn/T/ipykernel_3941/325113113.py:28: RuntimeWarning: Channel names are not unique, found duplicates for: {'T8-P8'}. Applying running numbers for duplicates.\n",
      "  raw = mne.io.read_raw(data_file) # raw = raw format\n"
     ]
    },
    {
     "name": "stdout",
     "output_type": "stream",
     "text": [
      "(29493760,)\n",
      "Investigating JSON: info_chb05_33.json\n",
      "Investigating EDF: chb05_33.edf\n",
      "Extracting EDF parameters from /Users/sirap/Documents/Capstone-BCI-13/dataset/chb05/chb05_33.edf...\n",
      "EDF file detected\n",
      "Setting channel info structure...\n",
      "Creating raw.info structure...\n"
     ]
    },
    {
     "name": "stderr",
     "output_type": "stream",
     "text": [
      "/var/folders/fx/s9d23h851bqgcdp14ny244k80000gn/T/ipykernel_3941/325113113.py:28: RuntimeWarning: Channel names are not unique, found duplicates for: {'T8-P8'}. Applying running numbers for duplicates.\n",
      "  raw = mne.io.read_raw(data_file) # raw = raw format\n"
     ]
    },
    {
     "name": "stdout",
     "output_type": "stream",
     "text": [
      "(30415360,)\n",
      "Investigating JSON: info_chb05_34.json\n",
      "Investigating EDF: chb05_34.edf\n",
      "Extracting EDF parameters from /Users/sirap/Documents/Capstone-BCI-13/dataset/chb05/chb05_34.edf...\n",
      "EDF file detected\n",
      "Setting channel info structure...\n",
      "Creating raw.info structure...\n"
     ]
    },
    {
     "name": "stderr",
     "output_type": "stream",
     "text": [
      "/var/folders/fx/s9d23h851bqgcdp14ny244k80000gn/T/ipykernel_3941/325113113.py:28: RuntimeWarning: Channel names are not unique, found duplicates for: {'T8-P8'}. Applying running numbers for duplicates.\n",
      "  raw = mne.io.read_raw(data_file) # raw = raw format\n"
     ]
    },
    {
     "name": "stdout",
     "output_type": "stream",
     "text": [
      "(31336960,)\n",
      "Investigating JSON: info_chb05_35.json\n",
      "Investigating EDF: chb05_35.edf\n",
      "Extracting EDF parameters from /Users/sirap/Documents/Capstone-BCI-13/dataset/chb05/chb05_35.edf...\n",
      "EDF file detected\n",
      "Setting channel info structure...\n",
      "Creating raw.info structure...\n"
     ]
    },
    {
     "name": "stderr",
     "output_type": "stream",
     "text": [
      "/var/folders/fx/s9d23h851bqgcdp14ny244k80000gn/T/ipykernel_3941/325113113.py:28: RuntimeWarning: Channel names are not unique, found duplicates for: {'T8-P8'}. Applying running numbers for duplicates.\n",
      "  raw = mne.io.read_raw(data_file) # raw = raw format\n"
     ]
    },
    {
     "name": "stdout",
     "output_type": "stream",
     "text": [
      "(32258560,)\n",
      "Investigating JSON: info_chb05_36.json\n",
      "Investigating EDF: chb05_36.edf\n",
      "Extracting EDF parameters from /Users/sirap/Documents/Capstone-BCI-13/dataset/chb05/chb05_36.edf...\n",
      "EDF file detected\n",
      "Setting channel info structure...\n",
      "Creating raw.info structure...\n"
     ]
    },
    {
     "name": "stderr",
     "output_type": "stream",
     "text": [
      "/var/folders/fx/s9d23h851bqgcdp14ny244k80000gn/T/ipykernel_3941/325113113.py:28: RuntimeWarning: Channel names are not unique, found duplicates for: {'T8-P8'}. Applying running numbers for duplicates.\n",
      "  raw = mne.io.read_raw(data_file) # raw = raw format\n"
     ]
    },
    {
     "name": "stdout",
     "output_type": "stream",
     "text": [
      "(33180160,)\n",
      "Investigating JSON: info_chb05_37.json\n",
      "Investigating EDF: chb05_37.edf\n",
      "Extracting EDF parameters from /Users/sirap/Documents/Capstone-BCI-13/dataset/chb05/chb05_37.edf...\n",
      "EDF file detected\n",
      "Setting channel info structure...\n",
      "Creating raw.info structure...\n"
     ]
    },
    {
     "name": "stderr",
     "output_type": "stream",
     "text": [
      "/var/folders/fx/s9d23h851bqgcdp14ny244k80000gn/T/ipykernel_3941/325113113.py:28: RuntimeWarning: Channel names are not unique, found duplicates for: {'T8-P8'}. Applying running numbers for duplicates.\n",
      "  raw = mne.io.read_raw(data_file) # raw = raw format\n"
     ]
    },
    {
     "name": "stdout",
     "output_type": "stream",
     "text": [
      "(34101760,)\n",
      "Investigating JSON: info_chb05_38.json\n",
      "Investigating EDF: chb05_38.edf\n",
      "Extracting EDF parameters from /Users/sirap/Documents/Capstone-BCI-13/dataset/chb05/chb05_38.edf...\n",
      "EDF file detected\n",
      "Setting channel info structure...\n",
      "Creating raw.info structure...\n"
     ]
    },
    {
     "name": "stderr",
     "output_type": "stream",
     "text": [
      "/var/folders/fx/s9d23h851bqgcdp14ny244k80000gn/T/ipykernel_3941/325113113.py:28: RuntimeWarning: Channel names are not unique, found duplicates for: {'T8-P8'}. Applying running numbers for duplicates.\n",
      "  raw = mne.io.read_raw(data_file) # raw = raw format\n"
     ]
    },
    {
     "name": "stdout",
     "output_type": "stream",
     "text": [
      "(35023360,)\n",
      "Investigating JSON: info_chb05_39.json\n",
      "Investigating EDF: chb05_39.edf\n",
      "Extracting EDF parameters from /Users/sirap/Documents/Capstone-BCI-13/dataset/chb05/chb05_39.edf...\n",
      "EDF file detected\n",
      "Setting channel info structure...\n",
      "Creating raw.info structure...\n"
     ]
    },
    {
     "name": "stderr",
     "output_type": "stream",
     "text": [
      "/var/folders/fx/s9d23h851bqgcdp14ny244k80000gn/T/ipykernel_3941/325113113.py:28: RuntimeWarning: Channel names are not unique, found duplicates for: {'T8-P8'}. Applying running numbers for duplicates.\n",
      "  raw = mne.io.read_raw(data_file) # raw = raw format\n"
     ]
    },
    {
     "name": "stdout",
     "output_type": "stream",
     "text": [
      "(35944960,)\n"
     ]
    }
   ],
   "source": [
    "# Create empty array for concat file\n",
    "main_join_file_array_Fp2_T8 = np.array([])\n",
    "main_join_file_array_F8_T8 = np.array([])\n",
    "\n",
    "# Looping through every files in json_info/chbxx/info_xx_xx.json\n",
    "for index, json_filename in enumerate(json_filename_array):\n",
    "    print(f'Investigating JSON: {json_filename}')\n",
    "\n",
    "    # Read JSON data\n",
    "    data = open('../' + 'json_convert_to_npy/' + patient_chb + '/' + json_filename)\n",
    "    f = json.load(data)\n",
    "\n",
    "    # Get edf filename from json info\n",
    "    edf_name_from_json = json_filename.split(\"_\")[1] + '_' + json_filename.split(\"_\")[2].split('.')[0] + '.edf'\n",
    "    print(f'Investigating EDF: {edf_name_from_json}')\n",
    "\n",
    "    # Open dataset and create array name of edf files\n",
    "    path_dataset = '../dataset/' + f['patient_ID']\n",
    "    edf_filename_array = os.listdir(path_dataset)\n",
    "    edf_filename_array.sort()\n",
    "\n",
    "    # Looping through every files in dataset/chbxx/chbxx_xx.edf \n",
    "    for index, edf_filename in enumerate(edf_filename_array):\n",
    "        # Check if the file name is info_xx_xx.json\n",
    "        if (json_filename.endswith('.json')):\n",
    "            data_file = path_dataset + '/' + f['raw_name']\n",
    "            if (edf_name_from_json == edf_filename):\n",
    "                raw = mne.io.read_raw(data_file) # raw = raw format\n",
    "                raw_array = raw.get_data() # raw_array = ndarray format\n",
    "\n",
    "                # Concat ( New Code )\n",
    "                main_join_file_array_Fp2_T8 = np.append(main_join_file_array_Fp2_T8, raw_array[12])\n",
    "                main_join_file_array_F8_T8 = np.append(main_join_file_array_F8_T8, raw_array[13])\n",
    "                print(main_join_file_array_Fp2_T8.shape)\n",
    "\n",
    "        else: \n",
    "            # print(f'-------------  No {edf_name_from_json} in dataset folder -------------')\n",
    "            continue\n",
    "    else:\n",
    "        # print(f'-------------  {json_filename} is not an edf file  -------------')\n",
    "        continue\n"
   ]
  },
  {
   "cell_type": "code",
   "execution_count": 4,
   "metadata": {},
   "outputs": [
    {
     "name": "stdout",
     "output_type": "stream",
     "text": [
      "------Numpy Data Created-------\n"
     ]
    }
   ],
   "source": [
    "data_final = np.vstack((main_join_file_array_Fp2_T8, main_join_file_array_F8_T8))\n",
    "data_final = np.transpose(data_final)\n",
    "np.save('chb05-2chn.npy', data_final) \n",
    "print('------Numpy Data Created-------')"
   ]
  },
  {
   "cell_type": "code",
   "execution_count": 7,
   "metadata": {},
   "outputs": [
    {
     "name": "stdout",
     "output_type": "stream",
     "text": [
      "------CSV Data Created-------\n"
     ]
    }
   ],
   "source": [
    "np.savetxt('chb05-2chn.csv', (data_final), delimiter=',')\n",
    "print('------CSV Data Created-------')"
   ]
  },
  {
   "cell_type": "code",
   "execution_count": 8,
   "metadata": {},
   "outputs": [
    {
     "name": "stdout",
     "output_type": "stream",
     "text": [
      "(35944960, 2)\n",
      "(35944960, 2)\n"
     ]
    }
   ],
   "source": [
    "# Test data\n",
    "data_npy = np.load('./chb05-2chn.npy')\n",
    "print(data_npy.shape)\n",
    "\n",
    "data_csv = np.loadtxt(\"chb05-2chn.csv\",delimiter=\",\")\n",
    "print(data_csv.shape)\n"
   ]
  }
 ],
 "metadata": {
  "kernelspec": {
   "display_name": "mne",
   "language": "python",
   "name": "python3"
  },
  "language_info": {
   "codemirror_mode": {
    "name": "ipython",
    "version": 3
   },
   "file_extension": ".py",
   "mimetype": "text/x-python",
   "name": "python",
   "nbconvert_exporter": "python",
   "pygments_lexer": "ipython3",
   "version": "3.10.6"
  },
  "orig_nbformat": 4,
  "vscode": {
   "interpreter": {
    "hash": "105ac0125afe8206db741672ac7216860dbd706aa356b113c2d3a091ba0f0cb0"
   }
  }
 },
 "nbformat": 4,
 "nbformat_minor": 2
}
