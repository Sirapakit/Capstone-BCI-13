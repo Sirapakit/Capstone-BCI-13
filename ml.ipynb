{
 "cells": [
  {
   "cell_type": "code",
   "execution_count": 1,
   "metadata": {},
   "outputs": [],
   "source": [
    "# import library\n",
    "import os\n",
    "import numpy as np\n",
    "import pandas as pd\n",
    "import matplotlib.pyplot as plt\n",
    "\n",
    "from sklearn.pipeline import Pipeline\n",
    "from sklearn.discriminant_analysis import LinearDiscriminantAnalysis\n",
    "from sklearn.model_selection import ShuffleSplit, cross_val_score\n",
    "from sklearn import datasets\n",
    "from sklearn.metrics import confusion_matrix\n",
    "from sklearn.model_selection import train_test_split\n",
    "\n",
    "import mne\n",
    "from mne import Epochs, pick_types, find_events, pick_types, set_eeg_reference\n",
    "from mne.channels import read_layout\n",
    "from mne.io import concatenate_raws, read_raw_edf\n",
    "from mne.datasets import eegbci\n",
    "from mne.decoding import CSP\n",
    "from mne import viz"
   ]
  },
  {
   "cell_type": "code",
   "execution_count": 3,
   "metadata": {},
   "outputs": [
    {
     "name": "stdout",
     "output_type": "stream",
     "text": [
      "Extracting EDF parameters from D:\\Thesis\\Capstone-BCI-13\\dataset\\chb15\\chb15_06.edf...\n",
      "EDF file detected\n",
      "Setting channel info structure...\n",
      "Creating raw.info structure...\n"
     ]
    },
    {
     "name": "stderr",
     "output_type": "stream",
     "text": [
      "C:\\Users\\Admin\\AppData\\Local\\Temp/ipykernel_32924/2633913067.py:6: RuntimeWarning: Channel names are not unique, found duplicates for: {'-', 'T8-P8'}. Applying running numbers for duplicates.\n",
      "  raw = read_raw_edf(myPath, preload=True,\n",
      "C:\\Users\\Admin\\AppData\\Local\\Temp/ipykernel_32924/2633913067.py:6: RuntimeWarning: Scaling factor is not defined in following channels:\n",
      "--0, --1, --2, --3, --4, --5\n",
      "  raw = read_raw_edf(myPath, preload=True,\n"
     ]
    },
    {
     "name": "stdout",
     "output_type": "stream",
     "text": [
      "Reading 0 ... 921599  =      0.000 ...  3599.996 secs...\n",
      "-----------------------------------------------------------------\n",
      "Data type: <class 'mne.io.edf.edf.RawEDF'>\n",
      "\n",
      "<RawEDF | chb15_06.edf, 38 x 921600 (3600.0 s), ~267.2 MB, data loaded>\n",
      "Sampling rate: 256.0 Hz\n",
      "Size of all channels  (38, 921600)\n",
      "Size of F8-T8 channel (1, 921600) and the info are\n",
      "\n",
      "<RawEDF | chb15_06.edf, 1 x 921600 (3600.0 s), ~7.0 MB, data loaded>\n"
     ]
    }
   ],
   "source": [
    "# read data\n",
    "myPath = r'D:\\Thesis\\Capstone-BCI-13\\dataset\\chb15\\chb15_06.edf'\n",
    "\n",
    "# basic info\n",
    "tmin, tmax = -0.1, 1.0\n",
    "raw = read_raw_edf(myPath, preload=True,\n",
    "                   stim_channel=None)  # can use easy path\n",
    "print(\"-----------------------------------------------------------------\")\n",
    "print(f'Data type: {type(raw)}\\n\\n{raw}')\n",
    "print('Sampling rate:', raw.info['sfreq'], 'Hz')\n",
    "print(f'Size of all channels  {raw.get_data().shape}')\n",
    "\n",
    "# Choose channel f8-t8\n",
    "f8_t8_channel_info = raw.pick_channels(['F8-T8'])\n",
    "print(\n",
    "    f'Size of F8-T8 channel {f8_t8_channel_info.get_data().shape} and the info are\\n')\n",
    "print(f8_t8_channel_info)\n"
   ]
  },
  {
   "cell_type": "code",
   "execution_count": 21,
   "metadata": {},
   "outputs": [
    {
     "name": "stdout",
     "output_type": "stream",
     "text": [
      "Type of X is <class 'numpy.ndarray'>\n",
      "Size of X is (1000, 1)\n",
      "(1000,)\n",
      "1000\n"
     ]
    }
   ],
   "source": [
    "# Create X, y from f8_t8_channel_info\n",
    "seizure_time = {\"start\": 272, \"stop\": 397}\n",
    "state = {\"preictal\": 0, \"ictal\": 1, \"interictal\": 2}\n",
    "X = f8_t8_channel_info.get_data()\n",
    "X = X.transpose()\n",
    "X = X[0:1000] \n",
    "y = np.zeros((1000,), dtype=int)\n",
    "y[:seizure_time[\"start\"]-1] = state[\"preictal\"]\n",
    "y[seizure_time[\"start\"]:seizure_time[\"stop\"]] = state[\"ictal\"]\n",
    "y[seizure_time[\"stop\"]+1:] = state[\"interictal\"]\n",
    "\n",
    "print(f'Type of X is {type(X)}')\n",
    "print(f'Size of X is {X.shape}')\n",
    "print(y.shape)\n",
    "print(X.size)"
   ]
  },
  {
   "cell_type": "code",
   "execution_count": 27,
   "metadata": {},
   "outputs": [
    {
     "name": "stderr",
     "output_type": "stream",
     "text": [
      "c:\\Users\\Admin\\anaconda3\\lib\\site-packages\\sklearn\\svm\\_base.py:255: ConvergenceWarning: Solver terminated early (max_iter=10).  Consider pre-processing your data with StandardScaler or MinMaxScaler.\n",
      "  warnings.warn('Solver terminated early (max_iter=%i).'\n"
     ]
    }
   ],
   "source": [
    "X_train, X_test, y_train, y_test = train_test_split(X, y, test_size = 0.2, random_state = 0)\n",
    "  \n",
    "# training a linear SVM classifier\n",
    "from sklearn.svm import SVC\n",
    "svm_model_linear = SVC(kernel = 'linear', C = 1, max_iter = 10).fit(X_train, y_train)\n",
    "svm_predictions = svm_model_linear.predict(X_test)\n",
    "  \n",
    "# model accuracy for X_test  \n",
    "accuracy = svm_model_linear.score(X_test, y_test)\n",
    "  \n",
    "# creating a confusion matrix\n",
    "cm = confusion_matrix(y_test, svm_predictions)"
   ]
  },
  {
   "cell_type": "code",
   "execution_count": 28,
   "metadata": {},
   "outputs": [
    {
     "name": "stdout",
     "output_type": "stream",
     "text": [
      "Confusion Matrix\n",
      "\n",
      "[[28  0 18]\n",
      " [23  0  6]\n",
      " [73  0 52]]\n",
      "\n",
      "Accuracy: 0.40\n",
      "\n",
      "Micro Precision: 0.40\n",
      "Micro Recall: 0.40\n",
      "Micro F1-score: 0.40\n",
      "\n",
      "Macro Precision: 0.30\n",
      "Macro Recall: 0.34\n",
      "Macro F1-score: 0.28\n",
      "\n",
      "Weighted Precision: 0.48\n",
      "Weighted Recall: 0.40\n",
      "Weighted F1-score: 0.40\n",
      "\n",
      "Classification Report\n",
      "\n",
      "              precision    recall  f1-score   support\n",
      "\n",
      "     Class 1       0.23      0.61      0.33        46\n",
      "     Class 2       0.00      0.00      0.00        29\n",
      "     Class 3       0.68      0.42      0.52       125\n",
      "\n",
      "    accuracy                           0.40       200\n",
      "   macro avg       0.30      0.34      0.28       200\n",
      "weighted avg       0.48      0.40      0.40       200\n",
      "\n"
     ]
    },
    {
     "name": "stderr",
     "output_type": "stream",
     "text": [
      "c:\\Users\\Admin\\anaconda3\\lib\\site-packages\\sklearn\\metrics\\_classification.py:1248: UndefinedMetricWarning: Precision is ill-defined and being set to 0.0 in labels with no predicted samples. Use `zero_division` parameter to control this behavior.\n",
      "  _warn_prf(average, modifier, msg_start, len(result))\n",
      "c:\\Users\\Admin\\anaconda3\\lib\\site-packages\\sklearn\\metrics\\_classification.py:1248: UndefinedMetricWarning: Precision is ill-defined and being set to 0.0 in labels with no predicted samples. Use `zero_division` parameter to control this behavior.\n",
      "  _warn_prf(average, modifier, msg_start, len(result))\n",
      "c:\\Users\\Admin\\anaconda3\\lib\\site-packages\\sklearn\\metrics\\_classification.py:1248: UndefinedMetricWarning: Precision and F-score are ill-defined and being set to 0.0 in labels with no predicted samples. Use `zero_division` parameter to control this behavior.\n",
      "  _warn_prf(average, modifier, msg_start, len(result))\n",
      "c:\\Users\\Admin\\anaconda3\\lib\\site-packages\\sklearn\\metrics\\_classification.py:1248: UndefinedMetricWarning: Precision and F-score are ill-defined and being set to 0.0 in labels with no predicted samples. Use `zero_division` parameter to control this behavior.\n",
      "  _warn_prf(average, modifier, msg_start, len(result))\n",
      "c:\\Users\\Admin\\anaconda3\\lib\\site-packages\\sklearn\\metrics\\_classification.py:1248: UndefinedMetricWarning: Precision and F-score are ill-defined and being set to 0.0 in labels with no predicted samples. Use `zero_division` parameter to control this behavior.\n",
      "  _warn_prf(average, modifier, msg_start, len(result))\n"
     ]
    }
   ],
   "source": [
    "from sklearn.metrics import confusion_matrix\n",
    "confusion = confusion_matrix(y_test, svm_predictions)\n",
    "print('Confusion Matrix\\n')\n",
    "print(confusion)\n",
    "\n",
    "#importing accuracy_score, precision_score, recall_score, f1_score\n",
    "from sklearn.metrics import accuracy_score, precision_score, recall_score, f1_score\n",
    "print('\\nAccuracy: {:.2f}\\n'.format(accuracy_score(y_test, svm_predictions)))\n",
    "\n",
    "print('Micro Precision: {:.2f}'.format(precision_score(y_test, svm_predictions, average='micro')))\n",
    "print('Micro Recall: {:.2f}'.format(recall_score(y_test, svm_predictions, average='micro')))\n",
    "print('Micro F1-score: {:.2f}\\n'.format(f1_score(y_test, svm_predictions, average='micro')))\n",
    "\n",
    "print('Macro Precision: {:.2f}'.format(precision_score(y_test, svm_predictions, average='macro')))\n",
    "print('Macro Recall: {:.2f}'.format(recall_score(y_test, svm_predictions, average='macro')))\n",
    "print('Macro F1-score: {:.2f}\\n'.format(f1_score(y_test, svm_predictions, average='macro')))\n",
    "\n",
    "print('Weighted Precision: {:.2f}'.format(precision_score(y_test, svm_predictions, average='weighted')))\n",
    "print('Weighted Recall: {:.2f}'.format(recall_score(y_test, svm_predictions, average='weighted')))\n",
    "print('Weighted F1-score: {:.2f}'.format(f1_score(y_test, svm_predictions, average='weighted')))\n",
    "\n",
    "from sklearn.metrics import classification_report\n",
    "print('\\nClassification Report\\n')\n",
    "print(classification_report(y_test, svm_predictions, target_names=['Class 1', 'Class 2', 'Class 3']))\n"
   ]
  }
 ],
 "metadata": {
  "kernelspec": {
   "display_name": "Python 3.10.6 ('mne')",
   "language": "python",
   "name": "python3"
  },
  "language_info": {
   "codemirror_mode": {
    "name": "ipython",
    "version": 3
   },
   "file_extension": ".py",
   "mimetype": "text/x-python",
   "name": "python",
   "nbconvert_exporter": "python",
   "pygments_lexer": "ipython3",
   "version": "3.10.6"
  },
  "orig_nbformat": 4,
  "vscode": {
   "interpreter": {
    "hash": "105ac0125afe8206db741672ac7216860dbd706aa356b113c2d3a091ba0f0cb0"
   }
  }
 },
 "nbformat": 4,
 "nbformat_minor": 2
}
