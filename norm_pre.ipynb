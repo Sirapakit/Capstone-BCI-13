{
 "cells": [
  {
   "cell_type": "code",
   "execution_count": 1,
   "metadata": {},
   "outputs": [],
   "source": [
    "import mne\n",
    "import mne.viz\n",
    "import numpy as np\n",
    "import matplotlib.pyplot as plt\n",
    "from sklearn import preprocessing\n",
    "from sklearn.preprocessing import MinMaxScaler"
   ]
  },
  {
   "cell_type": "code",
   "execution_count": 2,
   "metadata": {},
   "outputs": [
    {
     "name": "stdout",
     "output_type": "stream",
     "text": [
      "Opening raw data file chb15_06.raw.fif...\n",
      "Isotrak not found\n",
      "    Range : 0 ... 921599 =      0.000 ...  3599.996 secs\n",
      "Ready.\n",
      "<Raw | chb15_06.raw.fif, 38 x 921600 (3600.0 s), ~43 kB, data not loaded>\n",
      "<Info | 9 non-empty values\n",
      " bads: []\n",
      " ch_names: FP1-F7, F7-T7, T7-P7, P7-O1, --0, FP1-F3, F3-C3, C3-P3, P3-O1, ...\n",
      " chs: 38 misc\n",
      " custom_ref_applied: False\n",
      " file_id: 4 items (dict)\n",
      " highpass: 0.0 Hz\n",
      " lowpass: 128.0 Hz\n",
      " meas_date: unspecified\n",
      " meas_id: 4 items (dict)\n",
      " nchan: 38\n",
      " projs: []\n",
      " sfreq: 256.0 Hz\n",
      ">\n",
      "['FP1-F7', 'F7-T7', 'T7-P7', 'P7-O1', '--0', 'FP1-F3', 'F3-C3', 'C3-P3', 'P3-O1', '--1', 'FZ-CZ', 'CZ-PZ', 'PZ-OZ', '--2', 'FP2-F4', 'F4-C4', 'C4-P4', 'P4-O2', '--3', 'FP2-F8', 'F8-T8', 'T8-P8-0', 'P8-O2', '--4', 'P7-T7', 'T7-FT9', 'FT9-FT10', 'FT10-T8', 'T8-P8-1', '--5', 'FC1-Ref', 'FC2-Ref', 'FC5-Ref', 'FC6-Ref', 'CP1-Ref', 'CP2-Ref', 'CP5-Ref', 'CP6-Ref']\n"
     ]
    }
   ],
   "source": [
    "path = \"chb15_06.raw.fif\"\n",
    "raw = mne.io.read_raw_fif(path)\n",
    "print(raw) \n",
    "print(raw.info) \n",
    "print(raw.ch_names)"
   ]
  },
  {
   "cell_type": "code",
   "execution_count": 3,
   "metadata": {},
   "outputs": [
    {
     "name": "stdout",
     "output_type": "stream",
     "text": [
      "maximum value is 0.00020561661222018301\n",
      "minimum value is -0.00016556776245124638\n",
      "maximum_norm value is 0.0\n",
      "minimum_norm value is 0.0\n"
     ]
    }
   ],
   "source": [
    "dummy_raw = raw.pick_channels(['F8-T8']).get_data()\n",
    "print(\"maximum value is %s\" % np.max(dummy_raw))\n",
    "print(\"minimum value is %s\" % np.min(dummy_raw))\n",
    "\n",
    "scaler = preprocessing.MinMaxScaler(feature_range=(0,1))\n",
    "norm = scaler.fit_transform(dummy_raw)\n",
    "print(\"maximum_norm value is %s\" % np.max(norm))\n",
    "print(\"minimum_norm value is %s\" % np.min(norm))"
   ]
  },
  {
   "cell_type": "code",
   "execution_count": 7,
   "metadata": {},
   "outputs": [
    {
     "name": "stdout",
     "output_type": "stream",
     "text": [
      "Setting up band-stop filter from 1 - 70 Hz\n",
      "\n",
      "IIR filter parameters\n",
      "---------------------\n",
      "Butterworth bandstop zero-phase (two-pass forward and reverse) non-causal filter:\n",
      "- Filter order 16 (effective, after forward-backward)\n",
      "- Cutoffs at 1.00, 70.00 Hz: -6.02, -6.02 dB\n",
      "\n",
      " clean data.. [[0.50509884 0.49575199 0.51023083 ... 0.43434787 0.44064989 0.43727308]]\n",
      "1.0\n",
      "0.0\n"
     ]
    },
    {
     "data": {
      "image/png": "[encoded data removed]",
      "text/plain": [
       "<Figure size 432x288 with 1 Axes>"
      ]
     },
     "metadata": {
      "needs_background": "light"
     },
     "output_type": "display_data"
    }
   ],
   "source": [
    "def NormalizeData(data):\n",
    "    return (data - np.min(data)) / (np.max(data) - np.min(data))\n",
    "\n",
    "scaled_x = NormalizeData(dummy_raw)\n",
    "fil_x = mne.filter.filter_data(scaled_x, 256, 70, 1, method='iir')\n",
    "plt.plot(fil_x[0])\n",
    "print(f\" clean data.. {fil_x}\")\n",
    "print(np.max(scaled_x))\n",
    "print(np.min(scaled_x))"
   ]
  }
 ],
 "metadata": {
  "kernelspec": {
   "display_name": "Python 3.9.7 ('base')",
   "language": "python",
   "name": "python3"
  },
  "language_info": {
   "codemirror_mode": {
    "name": "ipython",
    "version": 3
   },
   "file_extension": ".py",
   "mimetype": "text/x-python",
   "name": "python",
   "nbconvert_exporter": "python",
   "pygments_lexer": "ipython3",
   "version": "3.9.7"
  },
  "orig_nbformat": 4,
  "vscode": {
   "interpreter": {
    "hash": "2043299c89c8cd0b4d1a6f5cf4529bd58e6a4e0fe3181a25e0d328c821cdc5c5"
   }
  }
 },
 "nbformat": 4,
 "nbformat_minor": 2
}
