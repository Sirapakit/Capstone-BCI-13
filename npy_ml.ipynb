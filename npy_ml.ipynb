{
 "cells": [
  {
   "cell_type": "code",
   "execution_count": 34,
   "metadata": {},
   "outputs": [
    {
     "name": "stdout",
     "output_type": "stream",
     "text": [
      "(4608512,) (4608512,)\n"
     ]
    }
   ],
   "source": [
    "import numpy as np\n",
    "import matplotlib.pyplot as plt\n",
    "\n",
    "path = 'data_chb15_01.npy'\n",
    "path2 = 'data_chb15_02.npy'\n",
    "path3 = 'data_chb15_03.npy'\n",
    "path4 = 'data_chb15_06.npy'\n",
    "path5 = 'data_chb15_10.npy'\n",
    "\n",
    "data = np.load(path)\n",
    "data2 = np.load(path2)\n",
    "data3 = np.load(path3)\n",
    "data4 = np.load(path4)\n",
    "data5 = np.load(path4)\n",
    "\n",
    "data_add = np.append(data[0],data2[0])\n",
    "data_add = np.append(data_add,data3[0])\n",
    "data_add = np.append(data_add,data4[0])\n",
    "data_add = np.append(data_add,data5[0])\n",
    "\n",
    "label = np.append(data[2],data2[2])\n",
    "label = np.append(label,data3[2])\n",
    "label = np.append(label,data4[2])\n",
    "label = np.append(label,data5[2])\n",
    "\n",
    "print(data_add.shape, label.shape)"
   ]
  },
  {
   "cell_type": "code",
   "execution_count": 35,
   "metadata": {},
   "outputs": [
    {
     "name": "stdout",
     "output_type": "stream",
     "text": [
      "set of label \"0\": 35383\n",
      "set of label \"1\": 120\n",
      "set of label \"2\": 500\n"
     ]
    }
   ],
   "source": [
    "import statistics as st\n",
    "\n",
    "def strided_app(a, L, S ):  # Window len = L, Stride len/stepsize = S\n",
    "    nrows = ((a.size-L)//S)+1\n",
    "    n = a.strides[0]\n",
    "    return np.lib.stride_tricks.as_strided(a, shape=(nrows,L), strides=(S*n,n))\n",
    "\n",
    "x = strided_app(data_add, L = 256, S = 128)\n",
    "# print(x.shape)\n",
    "\n",
    "z = strided_app(label, L = 256, S = 128)\n",
    "y = np.zeros(x.shape[0])\n",
    "for i in range(0,x.shape[0]):\n",
    "    if st.mode(z[i]) == 0:\n",
    "        y[i] = 0\n",
    "    elif st.mode(z[i]) == 1:\n",
    "        y[i] = 1\n",
    "    else:\n",
    "        y[i] = 2\n",
    "non = np.count_nonzero(y==0)\n",
    "soz = np.count_nonzero(y==1)\n",
    "ict = np.count_nonzero(y==2)\n",
    "# print(y.shape)\n",
    "print('set of label \"0\": {}'.format(non))\n",
    "print('set of label \"1\": {}'.format(soz))\n",
    "print('set of label \"2\": {}'.format(ict))"
   ]
  },
  {
   "cell_type": "code",
   "execution_count": 36,
   "metadata": {},
   "outputs": [],
   "source": [
    "from sklearn.metrics import confusion_matrix, accuracy_score, precision_score, recall_score, f1_score\n",
    "from sklearn.model_selection import train_test_split\n",
    "\n",
    "# Undersampling\n",
    "from imblearn.under_sampling import NearMiss\n",
    "from imblearn.under_sampling import RandomUnderSampler\n",
    "from imblearn.under_sampling import EditedNearestNeighbours\n",
    "\n",
    "# enn = EditedNearestNeighbours()\n",
    "# rus = RandomUnderSampler(random_state=0)\n",
    "nr = NearMiss(n_neighbors=3)\n",
    "\n",
    "X_train, X_test, y_train, y_test = train_test_split(x, y, test_size = 0.3, random_state = 0)\n",
    "X_train_resample, y_train_resample = nr.fit_resample(X_train, y_train)\n",
    "X_test_resample, y_test_resample = nr.fit_resample(X_test, y_test)\n",
    "\n",
    "# print('After Undersampling, the shape of train_X: {}'.format(X_train_resample.shape))\n",
    "# print('After Undersampling, the shape of train_y: {} \\n'.format(y_train_resample.shape))\n",
    "# print(\"After Undersampling, counts of label '0': {}\".format(sum(y_train_resample == 0)))\n",
    "# print(\"After Undersampling, counts of label '1': {}\".format(sum(y_train_resample == 1)))\n",
    "# print(\"After Undersampling, counts of label '2': {}\\n\".format(sum(y_train_resample == 2)))\n",
    "\n",
    "# print('After Undersampling, the shape of test_X: {}'.format(X_test_resample.shape))\n",
    "# print('After Undersampling, the shape of test_y: {}'.format(y_test_resample.shape))\n",
    "# print(\"After Undersampling, counts of label '0': {}\".format(sum(y_test_resample == 0)))\n",
    "# print(\"After Undersampling, counts of label '1': {}\".format(sum(y_test_resample == 1)))\n",
    "# print(\"After Undersampling, counts of label '2': {}\".format(sum(y_test_resample == 2)))\n",
    "\n",
    "# print(X_test.shape)\n",
    "# print(y_test.shape)\n",
    "# print('After Undersampling, the shape of train_X: {}'.format(X_train.shape))\n",
    "# print('After Undersampling, the shape of train_y: {} \\n'.format(y_train.shape))\n",
    "# print(\"After Undersampling, counts of label '0': {}\".format(sum(y_train == 0)))\n",
    "# print(\"After Undersampling, counts of label '1': {}\".format(sum(y_train == 1)))\n",
    "# print(\"After Undersampling, counts of label '2': {}\".format(sum(y_train == 2)))"
   ]
  },
  {
   "cell_type": "code",
   "execution_count": 37,
   "metadata": {},
   "outputs": [
    {
     "name": "stdout",
     "output_type": "stream",
     "text": [
      "0.803921568627451\n",
      "[[27  0  7]\n",
      " [ 3 27  4]\n",
      " [ 5  1 28]]\n"
     ]
    }
   ],
   "source": [
    "# SVC resample_test\n",
    "from sklearn.svm import SVC\n",
    "svm_model_linear = SVC(kernel = 'rbf', C = 1).fit(X_train_resample, y_train_resample)\n",
    "svm_predictions = svm_model_linear.predict(X_test_resample)\n",
    "\n",
    "# model accuracy for X_test  \n",
    "accuracy = svm_model_linear.score(X_test_resample, y_test_resample)\n",
    "  \n",
    "# creating a confusion matrix\n",
    "cm = confusion_matrix(y_test_resample, svm_predictions)\n",
    "\n",
    "print(accuracy)\n",
    "print(cm)\n",
    "\n",
    "# from sklearn.metrics import classification_report\n",
    "# print('\\nClassification Report\\n')\n",
    "# print(classification_report(y_test, svm_predictions, target_names=['non-seizure', 'soz', 'ictal']))\n"
   ]
  },
  {
   "cell_type": "code",
   "execution_count": 38,
   "metadata": {},
   "outputs": [
    {
     "name": "stdout",
     "output_type": "stream",
     "text": [
      "(10801, 256) ---- (10801,)\n",
      "0.07240070363855199\n",
      "[[ 707 6866 3029]\n",
      " [   3   27    4]\n",
      " [   5  112   48]]\n"
     ]
    }
   ],
   "source": [
    "# SVC non-resample test\n",
    "from sklearn.svm import SVC\n",
    "from sklearn import metrics\n",
    "svm_model_linear = SVC(kernel = 'rbf', C = 1).fit(X_train_resample, y_train_resample)\n",
    "svm_predictions = svm_model_linear.predict(X_test)\n",
    "\n",
    "# model accuracy for X_test  \n",
    "accuracy = metrics.accuracy_score(y_test, svm_predictions)\n",
    "# creating a confusion matrix\n",
    "cm = confusion_matrix(y_test, svm_predictions)\n",
    "\n",
    "print(X_test.shape,'----',y_test.shape)\n",
    "print(accuracy)\n",
    "print(cm) \n",
    "# 4313 6327 4480 (vertical) / 14240 238 642 (horizontal) => total = test.shape"
   ]
  },
  {
   "cell_type": "code",
   "execution_count": 39,
   "metadata": {},
   "outputs": [
    {
     "name": "stdout",
     "output_type": "stream",
     "text": [
      "0.5784313725490197\n",
      "[[31  0  3]\n",
      " [10 14 10]\n",
      " [20  0 14]]\n"
     ]
    }
   ],
   "source": [
    "# KNN resample test\n",
    "from sklearn.neighbors import KNeighborsClassifier\n",
    "from sklearn import metrics\n",
    "knn = KNeighborsClassifier(n_neighbors = 3).fit(X_train_resample, y_train_resample)\n",
    "# K = sqrt(samples) or plot the error rate\n",
    "knn_predictions = knn.predict(X_test_resample)\n",
    "accuracy = metrics.accuracy_score(y_test_resample, knn_predictions)\n",
    "cm = confusion_matrix(y_test_resample, knn_predictions)\n",
    "\n",
    "print(accuracy)\n",
    "print(cm)\n",
    "\n",
    "# error_rate = []\n",
    "# for i in range(1,50):\n",
    "#  knn = KNeighborsClassifier(n_neighbors=i)\n",
    "#  knn.fit(X_train_resample,y_train_resample)\n",
    "#  pred_i = knn.predict(X_test_resample)\n",
    "#  error_rate.append(np.mean(pred_i != y_test_resample))\n",
    "\n",
    "# plt.figure(figsize=(10,6))\n",
    "# plt.plot(range(1,50),error_rate,color='blue', linestyle='dashed', \n",
    "#          marker='o',markerfacecolor='red', markersize=10)\n",
    "# plt.title('Error Rate vs. K Value')\n",
    "# plt.xlabel('K')\n",
    "# plt.ylabel('Error Rate')\n",
    "#print(\"Minimum error:-\",min(error_rate),\"at K =\",error_rate.index(min(error_rate)))"
   ]
  },
  {
   "cell_type": "code",
   "execution_count": 40,
   "metadata": {},
   "outputs": [
    {
     "name": "stdout",
     "output_type": "stream",
     "text": [
      "0.6773446903064531\n",
      "[[7271 1147 2184]\n",
      " [  22    1   11]\n",
      " [ 106   15   44]]\n"
     ]
    }
   ],
   "source": [
    "# KNN non-resample test\n",
    "from sklearn.neighbors import KNeighborsClassifier\n",
    "from sklearn import metrics\n",
    "knn = KNeighborsClassifier(n_neighbors = 26,).fit(X_train_resample, y_train_resample)\n",
    "knn_predictions = knn.predict(X_test)\n",
    "accuracy = metrics.accuracy_score(y_test, knn_predictions)\n",
    "cm = confusion_matrix(y_test, knn_predictions)\n",
    "\n",
    "print(accuracy)\n",
    "print(cm)"
   ]
  },
  {
   "cell_type": "code",
   "execution_count": 41,
   "metadata": {},
   "outputs": [
    {
     "name": "stdout",
     "output_type": "stream",
     "text": [
      "0.45098039215686275\n",
      "[[33  1  0]\n",
      " [21 13  0]\n",
      " [32  2  0]]\n"
     ]
    }
   ],
   "source": [
    "# decision tree\n",
    "from sklearn.tree import DecisionTreeClassifier\n",
    "dtree_model = DecisionTreeClassifier(max_depth = 2).fit(X_train_resample, y_train_resample)\n",
    "dtree_predictions = dtree_model.predict(X_test_resample)\n",
    "  \n",
    "accuracy = metrics.accuracy_score(y_test_resample, dtree_predictions)\n",
    "cm = confusion_matrix(y_test_resample, dtree_predictions)\n",
    "\n",
    "print(accuracy)\n",
    "print(cm)"
   ]
  },
  {
   "cell_type": "code",
   "execution_count": 42,
   "metadata": {},
   "outputs": [
    {
     "name": "stdout",
     "output_type": "stream",
     "text": [
      "0.8627450980392157\n",
      "[[26  0  8]\n",
      " [ 0 32  2]\n",
      " [ 4  0 30]]\n"
     ]
    }
   ],
   "source": [
    "# random forest\n",
    "from sklearn.model_selection import train_test_split\n",
    "from sklearn.ensemble import RandomForestClassifier\n",
    "clf = RandomForestClassifier(n_estimators = 100) \n",
    "\n",
    "clf.fit(X_train_resample, y_train_resample)\n",
    "rand_predictions = clf.predict(X_test_resample)\n",
    "\n",
    "accuracy = metrics.accuracy_score(y_test_resample, rand_predictions)\n",
    "cm = confusion_matrix(y_test_resample, rand_predictions)\n",
    "\n",
    "print(accuracy)\n",
    "print(cm)"
   ]
  }
 ],
 "metadata": {
  "kernelspec": {
   "display_name": "Python 3.9.7 ('base')",
   "language": "python",
   "name": "python3"
  },
  "language_info": {
   "codemirror_mode": {
    "name": "ipython",
    "version": 3
   },
   "file_extension": ".py",
   "mimetype": "text/x-python",
   "name": "python",
   "nbconvert_exporter": "python",
   "pygments_lexer": "ipython3",
   "version": "3.9.7"
  },
  "orig_nbformat": 4,
  "vscode": {
   "interpreter": {
    "hash": "2043299c89c8cd0b4d1a6f5cf4529bd58e6a4e0fe3181a25e0d328c821cdc5c5"
   }
  }
 },
 "nbformat": 4,
 "nbformat_minor": 2
}
